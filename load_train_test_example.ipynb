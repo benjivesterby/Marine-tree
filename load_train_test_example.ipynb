{
 "cells": [
  {
   "cell_type": "code",
   "execution_count": 1,
   "id": "63c9995e",
   "metadata": {},
   "outputs": [],
   "source": [
    "from tensorflow import keras\n",
    "import numpy as np\n",
    "import tensorflow as tf\n",
    "from deakin.edu.au.data import get_Marine_dataset\n",
    "from deakin.edu.au import models \n",
    "import deakin.edu.au.metrics as metrics\n",
    "from tensorflow.keras.utils import plot_model\n",
    "from graphviz import Digraph\n",
    "import matplotlib.pyplot as plt\n",
    "import numpy as np\n",
    "from sklearn.metrics import accuracy_score\n",
    "from keras.models import load_model\n"
   ]
  },
  {
   "cell_type": "code",
   "execution_count": 2,
   "id": "01ab7f6c",
   "metadata": {},
   "outputs": [],
   "source": [
    "dataset = get_Marine_dataset(output_level='all',image_size=(64, 64),subtype='Tropical',batch_size=128)"
   ]
  },
  {
   "cell_type": "code",
   "execution_count": 3,
   "id": "8824e839",
   "metadata": {},
   "outputs": [
    {
     "name": "stdout",
     "output_type": "stream",
     "text": [
      "Root\n",
      "├── Biota -> (L0_0)\n",
      "│   ├── Ascidians -> (L1_5)\n",
      "│   │   └── Ascidians (unstalked) -> (L2_16)\n",
      "│   │       └── Ascidians (unstalked) -> (L3_18)\n",
      "│   │           └── Ascidians (unstalked) -> (L4_18)\n",
      "│   ├── Bryozoa -> (L1_2)\n",
      "│   │   └── Bryozoan (soft) -> (L2_18)\n",
      "│   │       └── Bryozoan (soft) -> (L3_20)\n",
      "│   │           └── Bryozoan (soft) -> (L4_20)\n",
      "│   ├── Cnidaria -> (L1_1)\n",
      "│   │   ├── Colonial Anemones, Zoanthids and Corallimorphs -> (L2_19)\n",
      "│   │   │   └── Colonial Anemones, Zoanthids and Corallimorphs -> (L3_21)\n",
      "│   │   │       └── Colonial Anemones, Zoanthids and Corallimorphs -> (L4_21)\n",
      "│   │   ├── Corals -> (L2_28)\n",
      "│   │   │   ├── Ahermatypic corals -> (L3_30)\n",
      "│   │   │   │   └── Ahermatypic corals -> (L4_30)\n",
      "│   │   │   ├── Black & Octocorals -> (L3_32)\n",
      "│   │   │   │   ├── Heliopora coerulea (blue coral) -> (L4_47)\n",
      "│   │   │   │   ├── Organ-pipe coral (Tubipora) -> (L4_33)\n",
      "│   │   │   │   └── Soft corals and gorgonians -> (L4_32)\n",
      "│   │   │   ├── Hermatypic corals -> (L3_33)\n",
      "│   │   │   │   ├── Bottlebrush Acropora corals -> (L4_41)\n",
      "│   │   │   │   ├── Branching Acropora -> (L4_34)\n",
      "│   │   │   │   ├── Branching Pocillopora -> (L4_46)\n",
      "│   │   │   │   ├── Branching corals -> (L4_35)\n",
      "│   │   │   │   ├── Columnar corals -> (L4_42)\n",
      "│   │   │   │   ├── Corymbose Acropora corals -> (L4_40)\n",
      "│   │   │   │   ├── Digitate corals -> (L4_38)\n",
      "│   │   │   │   ├── Encrusting corals -> (L4_36)\n",
      "│   │   │   │   ├── Foliose/Plate corals -> (L4_37)\n",
      "│   │   │   │   ├── Large-polyp stony corals (free-living) -> (L4_44)\n",
      "│   │   │   │   ├── Massive corals -> (L4_43)\n",
      "│   │   │   │   ├── Sub-massive corals -> (L4_39)\n",
      "│   │   │   │   └── Tabular Acropora corals -> (L4_45)\n",
      "│   │   │   └── Hydrocoral -> (L3_31)\n",
      "│   │   │       └── Hydrocoral -> (L4_31)\n",
      "│   │   ├── Hydroids -> (L2_20)\n",
      "│   │   │   └── Hydroids -> (L3_22)\n",
      "│   │   │       └── Hydroids -> (L4_22)\n",
      "│   │   └── Solitary Anemones -> (L2_23)\n",
      "│   │       └── Solitary Anemones -> (L3_25)\n",
      "│   │           └── Solitary Anemones -> (L4_25)\n",
      "│   ├── Crustacea -> (L1_4)\n",
      "│   │   └── Barnacles -> (L2_17)\n",
      "│   │       └── Barnacles -> (L3_19)\n",
      "│   │           └── Barnacles -> (L4_19)\n",
      "│   ├── Macroalgae -> (L1_7)\n",
      "│   │   ├── Caulerpa -> (L2_1)\n",
      "│   │   │   └── Caulerpa -> (L3_3)\n",
      "│   │   │       └── Caulerpa -> (L4_3)\n",
      "│   │   ├── Crustose coralline algae -> (L2_7)\n",
      "│   │   │   └── Crustose coralline algae -> (L3_9)\n",
      "│   │   │       └── Crustose coralline algae -> (L4_9)\n",
      "│   │   ├── Encrusting leathery algae -> (L2_6)\n",
      "│   │   │   └── Encrusting leathery algae -> (L3_8)\n",
      "│   │   │       └── Encrusting leathery algae -> (L4_8)\n",
      "│   │   ├── Filamentous brown algae_epiphyte -> (L2_32)\n",
      "│   │   │   └── Filamentous brown algae_epiphyte -> (L3_36)\n",
      "│   │   │       └── Filamentous brown algae_epiphyte -> (L4_50)\n",
      "│   │   ├── Filamentous green algae_epiphyte -> (L2_31)\n",
      "│   │   │   └── Filamentous green algae_epiphyte -> (L3_35)\n",
      "│   │   │       └── Filamentous green algae_epiphyte -> (L4_49)\n",
      "│   │   ├── Filamentous red algae_epiphyte -> (L2_30)\n",
      "│   │   │   └── Filamentous red algae_epiphyte -> (L3_34)\n",
      "│   │   │       └── Filamentous red algae_epiphyte -> (L4_48)\n",
      "│   │   ├── Geniculate coralline algae -> (L2_5)\n",
      "│   │   │   └── Geniculate coralline algae -> (L3_7)\n",
      "│   │   │       └── Geniculate coralline algae -> (L4_7)\n",
      "│   │   ├── Green calcified algae (Halimeda) -> (L2_3)\n",
      "│   │   │   └── Green calcified algae (Halimeda) -> (L3_5)\n",
      "│   │   │       └── Green calcified algae (Halimeda) -> (L4_5)\n",
      "│   │   ├── Macroalgae_canopy forming -> (L2_29)\n",
      "│   │   │   ├── Ecklonia radiata -> (L3_0)\n",
      "│   │   │   │   └── Ecklonia radiata -> (L4_0)\n",
      "│   │   │   └── Other fucoids -> (L3_1)\n",
      "│   │   │       └── Other fucoids -> (L4_1)\n",
      "│   │   ├── Medium foliose brown algae -> (L2_0)\n",
      "│   │   │   └── Medium foliose brown algae -> (L3_2)\n",
      "│   │   │       └── Medium foliose brown algae -> (L4_2)\n",
      "│   │   ├── Medium foliose green algae -> (L2_2)\n",
      "│   │   │   └── Medium foliose green algae -> (L3_4)\n",
      "│   │   │       └── Medium foliose green algae -> (L4_4)\n",
      "│   │   ├── Medium foliose red algae -> (L2_4)\n",
      "│   │   │   └── Medium foliose red algae -> (L3_6)\n",
      "│   │   │       └── Medium foliose red algae -> (L4_6)\n",
      "│   │   ├── Slime (not trapping sediment) -> (L2_8)\n",
      "│   │   │   └── Slime (not trapping sediment) -> (L3_10)\n",
      "│   │   │       └── Slime (not trapping sediment) -> (L4_10)\n",
      "│   │   ├── Small <2cm foliose algal cover (not trapping sediment) -> (L2_9)\n",
      "│   │   │   └── Small <2cm foliose algal cover (not trapping sediment) -> (L3_11)\n",
      "│   │   │       └── Small <2cm foliose algal cover (not trapping sediment) -> (L4_11)\n",
      "│   │   └── Turfing algae (<2 cm high algal/sediment mat on rock) -> (L2_10)\n",
      "│   │       └── Turfing algae (<2 cm high algal/sediment mat on rock) -> (L3_12)\n",
      "│   │           └── Turfing algae (<2 cm high algal/sediment mat on rock) -> (L4_12)\n",
      "│   ├── Molluscs -> (L1_3)\n",
      "│   │   └── Sessile bivalves -> (L2_22)\n",
      "│   │       └── Sessile bivalves -> (L3_24)\n",
      "│   │           └── Sessile bivalves -> (L4_24)\n",
      "│   ├── Seagrasses -> (L1_6)\n",
      "│   │   └── Seagrass (straplike) -> (L2_21)\n",
      "│   │       └── Seagrass (straplike) -> (L3_23)\n",
      "│   │           └── Seagrass (straplike) -> (L4_23)\n",
      "│   └── Sponges -> (L1_0)\n",
      "│       ├── Sponges (encrusting) -> (L2_24)\n",
      "│       │   └── Sponges (encrusting) -> (L3_26)\n",
      "│       │       └── Sponges (encrusting) -> (L4_26)\n",
      "│       ├── Sponges (erect) -> (L2_25)\n",
      "│       │   └── Sponges (erect) -> (L3_27)\n",
      "│       │       └── Sponges (erect) -> (L4_27)\n",
      "│       ├── Sponges (hollow) -> (L2_26)\n",
      "│       │   └── Sponges (hollow) -> (L3_28)\n",
      "│       │       └── Sponges (hollow) -> (L4_28)\n",
      "│       └── Sponges (massive) -> (L2_27)\n",
      "│           └── Sponges (massive) -> (L3_29)\n",
      "│               └── Sponges (massive) -> (L4_29)\n",
      "└── Physical -> (L0_1)\n",
      "    └── Substrate -> (L1_8)\n",
      "        ├── Bare Rock -> (L2_14)\n",
      "        │   └── Bare Rock -> (L3_16)\n",
      "        │       └── Bare Rock -> (L4_16)\n",
      "        ├── Cobble -> (L2_13)\n",
      "        │   └── Cobble -> (L3_15)\n",
      "        │       └── Cobble -> (L4_15)\n",
      "        ├── Coral rubble -> (L2_12)\n",
      "        │   └── Coral rubble -> (L3_14)\n",
      "        │       └── Coral rubble -> (L4_14)\n",
      "        ├── Coral rubble with turf/encrusting algae -> (L2_33)\n",
      "        │   └── Coral rubble with turf/encrusting algae -> (L3_37)\n",
      "        │       └── Coral rubble with turf/encrusting algae -> (L4_51)\n",
      "        ├── Pebbles/gravel/shell -> (L2_11)\n",
      "        │   └── Pebbles/gravel/shell -> (L3_13)\n",
      "        │       └── Pebbles/gravel/shell -> (L4_13)\n",
      "        └── Sand -> (L2_15)\n",
      "            └── Sand -> (L3_17)\n",
      "                └── Sand -> (L4_17)\n",
      "\n"
     ]
    }
   ],
   "source": [
    "tree = dataset.get_tree()\n",
    "\n",
    "tree.show()"
   ]
  },
  {
   "cell_type": "code",
   "execution_count": 7,
   "id": "4b30457f",
   "metadata": {},
   "outputs": [],
   "source": [
    "epochs=10\n",
    "conv_base = 'vgg19'\n",
    "learning_rate=1e-5"
   ]
  },
  {
   "cell_type": "code",
   "execution_count": 8,
   "id": "6aa57b05",
   "metadata": {},
   "outputs": [
    {
     "data": {
      "text/plain": [
       "[2, 9, 34, 38, 52]"
      ]
     },
     "execution_count": 8,
     "metadata": {},
     "output_type": "execute_result"
    }
   ],
   "source": [
    "dataset.num_classes"
   ]
  },
  {
   "cell_type": "code",
   "execution_count": 9,
   "id": "f8e413a4",
   "metadata": {},
   "outputs": [
    {
     "data": {
      "text/plain": [
       "(64, 64, 3)"
      ]
     },
     "execution_count": 9,
     "metadata": {},
     "output_type": "execute_result"
    }
   ],
   "source": [
    "dataset.image_size"
   ]
  },
  {
   "cell_type": "code",
   "execution_count": 10,
   "id": "f2bbfb89",
   "metadata": {},
   "outputs": [
    {
     "name": "stdout",
     "output_type": "stream",
     "text": [
      "Model: \"mout_model\"\n",
      "__________________________________________________________________________________________________\n",
      "Layer (type)                    Output Shape         Param #     Connected to                     \n",
      "==================================================================================================\n",
      "main_input (InputLayer)         [(None, 64, 64, 3)]  0                                            \n",
      "__________________________________________________________________________________________________\n",
      "vgg19 (Functional)              (None, None, None, 5 20024384    main_input[0][0]                 \n",
      "__________________________________________________________________________________________________\n",
      "flatten (Flatten)               (None, 2048)         0           vgg19[0][0]                      \n",
      "__________________________________________________________________________________________________\n",
      "out_level_0 (Dense)             (None, 2)            4098        flatten[0][0]                    \n",
      "__________________________________________________________________________________________________\n",
      "out_level_1 (Dense)             (None, 9)            18441       flatten[0][0]                    \n",
      "__________________________________________________________________________________________________\n",
      "out_level_2 (Dense)             (None, 34)           69666       flatten[0][0]                    \n",
      "__________________________________________________________________________________________________\n",
      "out_level_3 (Dense)             (None, 38)           77862       flatten[0][0]                    \n",
      "__________________________________________________________________________________________________\n",
      "out_level_4 (Dense)             (None, 52)           106548      flatten[0][0]                    \n",
      "==================================================================================================\n",
      "Total params: 20,300,999\n",
      "Trainable params: 20,300,999\n",
      "Non-trainable params: 0\n",
      "__________________________________________________________________________________________________\n",
      "Epoch 1/10\n",
      "244/244 [==============================] - 185s 729ms/step - loss: 1.8433 - out_level_0_loss: 0.4681 - out_level_1_loss: 1.1780 - out_level_2_loss: 2.3056 - out_level_3_loss: 2.4665 - out_level_4_loss: 2.7982 - out_level_0_accuracy: 0.7916 - out_level_1_accuracy: 0.5110 - out_level_2_accuracy: 0.3494 - out_level_3_accuracy: 0.2866 - out_level_4_accuracy: 0.2771 - val_loss: 1.6375 - val_out_level_0_loss: 0.4440 - val_out_level_1_loss: 1.0364 - val_out_level_2_loss: 2.0045 - val_out_level_3_loss: 2.1917 - val_out_level_4_loss: 2.5110 - val_out_level_0_accuracy: 0.8103 - val_out_level_1_accuracy: 0.5749 - val_out_level_2_accuracy: 0.3992 - val_out_level_3_accuracy: 0.3377 - val_out_level_4_accuracy: 0.3174\n",
      "Epoch 2/10\n",
      "244/244 [==============================] - 87s 356ms/step - loss: 1.5437 - out_level_0_loss: 0.4065 - out_level_1_loss: 0.9650 - out_level_2_loss: 1.8950 - out_level_3_loss: 2.0747 - out_level_4_loss: 2.3771 - out_level_0_accuracy: 0.8230 - out_level_1_accuracy: 0.6145 - out_level_2_accuracy: 0.4469 - out_level_3_accuracy: 0.3886 - out_level_4_accuracy: 0.3596 - val_loss: 1.5399 - val_out_level_0_loss: 0.4150 - val_out_level_1_loss: 0.9785 - val_out_level_2_loss: 1.8861 - val_out_level_3_loss: 2.0595 - val_out_level_4_loss: 2.3606 - val_out_level_0_accuracy: 0.8221 - val_out_level_1_accuracy: 0.6065 - val_out_level_2_accuracy: 0.4411 - val_out_level_3_accuracy: 0.3820 - val_out_level_4_accuracy: 0.3551\n",
      "Epoch 3/10\n",
      "244/244 [==============================] - 86s 352ms/step - loss: 1.4489 - out_level_0_loss: 0.3787 - out_level_1_loss: 0.9050 - out_level_2_loss: 1.7790 - out_level_3_loss: 1.9476 - out_level_4_loss: 2.2342 - out_level_0_accuracy: 0.8362 - out_level_1_accuracy: 0.6438 - out_level_2_accuracy: 0.4797 - out_level_3_accuracy: 0.4248 - out_level_4_accuracy: 0.3904 - val_loss: 1.4825 - val_out_level_0_loss: 0.3906 - val_out_level_1_loss: 0.9365 - val_out_level_2_loss: 1.8188 - val_out_level_3_loss: 1.9916 - val_out_level_4_loss: 2.2749 - val_out_level_0_accuracy: 0.8303 - val_out_level_1_accuracy: 0.6232 - val_out_level_2_accuracy: 0.4630 - val_out_level_3_accuracy: 0.4027 - val_out_level_4_accuracy: 0.3732\n",
      "Epoch 4/10\n",
      "244/244 [==============================] - 88s 362ms/step - loss: 1.3812 - out_level_0_loss: 0.3603 - out_level_1_loss: 0.8627 - out_level_2_loss: 1.6976 - out_level_3_loss: 1.8567 - out_level_4_loss: 2.1288 - out_level_0_accuracy: 0.8462 - out_level_1_accuracy: 0.6664 - out_level_2_accuracy: 0.5048 - out_level_3_accuracy: 0.4486 - out_level_4_accuracy: 0.4162 - val_loss: 1.4373 - val_out_level_0_loss: 0.3727 - val_out_level_1_loss: 0.9089 - val_out_level_2_loss: 1.7640 - val_out_level_3_loss: 1.9383 - val_out_level_4_loss: 2.2027 - val_out_level_0_accuracy: 0.8346 - val_out_level_1_accuracy: 0.6376 - val_out_level_2_accuracy: 0.4767 - val_out_level_3_accuracy: 0.4258 - val_out_level_4_accuracy: 0.3878\n",
      "Epoch 5/10\n",
      "244/244 [==============================] - 89s 363ms/step - loss: 1.3250 - out_level_0_loss: 0.3445 - out_level_1_loss: 0.8264 - out_level_2_loss: 1.6312 - out_level_3_loss: 1.7815 - out_level_4_loss: 2.0415 - out_level_0_accuracy: 0.8536 - out_level_1_accuracy: 0.6830 - out_level_2_accuracy: 0.5213 - out_level_3_accuracy: 0.4702 - out_level_4_accuracy: 0.4366 - val_loss: 1.4081 - val_out_level_0_loss: 0.3634 - val_out_level_1_loss: 0.8918 - val_out_level_2_loss: 1.7270 - val_out_level_3_loss: 1.9026 - val_out_level_4_loss: 2.1560 - val_out_level_0_accuracy: 0.8438 - val_out_level_1_accuracy: 0.6506 - val_out_level_2_accuracy: 0.4922 - val_out_level_3_accuracy: 0.4338 - val_out_level_4_accuracy: 0.4027\n",
      "Epoch 6/10\n",
      "244/244 [==============================] - 85s 347ms/step - loss: 1.2777 - out_level_0_loss: 0.3314 - out_level_1_loss: 0.7959 - out_level_2_loss: 1.5745 - out_level_3_loss: 1.7187 - out_level_4_loss: 1.9680 - out_level_0_accuracy: 0.8589 - out_level_1_accuracy: 0.6964 - out_level_2_accuracy: 0.5369 - out_level_3_accuracy: 0.4870 - out_level_4_accuracy: 0.4536 - val_loss: 1.3849 - val_out_level_0_loss: 0.3596 - val_out_level_1_loss: 0.8768 - val_out_level_2_loss: 1.6987 - val_out_level_3_loss: 1.8733 - val_out_level_4_loss: 2.1161 - val_out_level_0_accuracy: 0.8464 - val_out_level_1_accuracy: 0.6642 - val_out_level_2_accuracy: 0.4993 - val_out_level_3_accuracy: 0.4418 - val_out_level_4_accuracy: 0.4145\n",
      "Epoch 7/10\n",
      "244/244 [==============================] - 84s 343ms/step - loss: 1.2336 - out_level_0_loss: 0.3190 - out_level_1_loss: 0.7670 - out_level_2_loss: 1.5215 - out_level_3_loss: 1.6601 - out_level_4_loss: 1.9004 - out_level_0_accuracy: 0.8648 - out_level_1_accuracy: 0.7098 - out_level_2_accuracy: 0.5517 - out_level_3_accuracy: 0.5041 - out_level_4_accuracy: 0.4705 - val_loss: 1.3676 - val_out_level_0_loss: 0.3557 - val_out_level_1_loss: 0.8703 - val_out_level_2_loss: 1.6778 - val_out_level_3_loss: 1.8484 - val_out_level_4_loss: 2.0859 - val_out_level_0_accuracy: 0.8487 - val_out_level_1_accuracy: 0.6668 - val_out_level_2_accuracy: 0.5075 - val_out_level_3_accuracy: 0.4498 - val_out_level_4_accuracy: 0.4291\n",
      "Epoch 8/10\n",
      "244/244 [==============================] - 85s 348ms/step - loss: 1.1901 - out_level_0_loss: 0.3061 - out_level_1_loss: 0.7379 - out_level_2_loss: 1.4697 - out_level_3_loss: 1.6026 - out_level_4_loss: 1.8342 - out_level_0_accuracy: 0.8708 - out_level_1_accuracy: 0.7210 - out_level_2_accuracy: 0.5664 - out_level_3_accuracy: 0.5211 - out_level_4_accuracy: 0.4879 - val_loss: 1.3586 - val_out_level_0_loss: 0.3529 - val_out_level_1_loss: 0.8695 - val_out_level_2_loss: 1.6677 - val_out_level_3_loss: 1.8368 - val_out_level_4_loss: 2.0663 - val_out_level_0_accuracy: 0.8492 - val_out_level_1_accuracy: 0.6711 - val_out_level_2_accuracy: 0.5094 - val_out_level_3_accuracy: 0.4538 - val_out_level_4_accuracy: 0.4345\n",
      "Epoch 9/10\n"
     ]
    },
    {
     "name": "stdout",
     "output_type": "stream",
     "text": [
      "244/244 [==============================] - 88s 360ms/step - loss: 1.1458 - out_level_0_loss: 0.2926 - out_level_1_loss: 0.7074 - out_level_2_loss: 1.4171 - out_level_3_loss: 1.5437 - out_level_4_loss: 1.7680 - out_level_0_accuracy: 0.8783 - out_level_1_accuracy: 0.7343 - out_level_2_accuracy: 0.5816 - out_level_3_accuracy: 0.5386 - out_level_4_accuracy: 0.5064 - val_loss: 1.3565 - val_out_level_0_loss: 0.3509 - val_out_level_1_loss: 0.8738 - val_out_level_2_loss: 1.6676 - val_out_level_3_loss: 1.8342 - val_out_level_4_loss: 2.0560 - val_out_level_0_accuracy: 0.8527 - val_out_level_1_accuracy: 0.6708 - val_out_level_2_accuracy: 0.5066 - val_out_level_3_accuracy: 0.4581 - val_out_level_4_accuracy: 0.4333\n",
      "Epoch 10/10\n",
      "244/244 [==============================] - 87s 358ms/step - loss: 1.0997 - out_level_0_loss: 0.2780 - out_level_1_loss: 0.6749 - out_level_2_loss: 1.3618 - out_level_3_loss: 1.4829 - out_level_4_loss: 1.7008 - out_level_0_accuracy: 0.8846 - out_level_1_accuracy: 0.7491 - out_level_2_accuracy: 0.5981 - out_level_3_accuracy: 0.5581 - out_level_4_accuracy: 0.5246 - val_loss: 1.3643 - val_out_level_0_loss: 0.3509 - val_out_level_1_loss: 0.8901 - val_out_level_2_loss: 1.6786 - val_out_level_3_loss: 1.8406 - val_out_level_4_loss: 2.0614 - val_out_level_0_accuracy: 0.8513 - val_out_level_1_accuracy: 0.6671 - val_out_level_2_accuracy: 0.5075 - val_out_level_3_accuracy: 0.4583 - val_out_level_4_accuracy: 0.4373\n"
     ]
    }
   ],
   "source": [
    "# Create the model\n",
    "mout_model = models.get_mout_model(dataset.num_classes,\n",
    "                                   dataset.image_size,\n",
    "                                   conv_base=conv_base,\n",
    "                                   learning_rate=learning_rate)\n",
    "mout_model.summary()\n",
    "#train model\n",
    "history_mout_model = mout_model.fit(dataset.train_dataset,\n",
    "                                    validation_data=dataset.val_dataset,\n",
    "                                    epochs=epochs)"
   ]
  },
  {
   "cell_type": "code",
   "execution_count": 16,
   "id": "897bd7f9",
   "metadata": {},
   "outputs": [
    {
     "data": {
      "image/png": "[encoded data removed]",
      "text/plain": [
       "<IPython.core.display.Image object>"
      ]
     },
     "execution_count": 16,
     "metadata": {},
     "output_type": "execute_result"
    }
   ],
   "source": [
    "plot_model(mout_model)"
   ]
  },
  {
   "cell_type": "code",
   "execution_count": 11,
   "id": "2cd8c1c5",
   "metadata": {},
   "outputs": [
    {
     "name": "stdout",
     "output_type": "stream",
     "text": [
      "Prediction using:  mout_model\n"
     ]
    }
   ],
   "source": [
    "models = [mout_model]\n",
    "\n",
    "predictions = []\n",
    "\n",
    "for model in models:\n",
    "    print('Prediction using: ', model.name)\n",
    "    predictions.append((metrics.predict_from_pipeline(model, dataset.test_dataset)))\n",
    "\n",
    "\n",
    "exact_match_scores = [metrics.get_exact_match(x[0], x[1]) for x in predictions]\n",
    "hP_scores = [metrics.get_hierarchical_metrics(x[0], x[1], dataset.get_tree())[0] for x in predictions]\n",
    "hR_scores = [metrics.get_hierarchical_metrics(x[0], x[1], dataset.get_tree())[1] for x in predictions]\n",
    "hF1_scores = [metrics.get_hierarchical_metrics(x[0], x[1], dataset.get_tree())[2] for x in predictions]\n",
    "h_accuracy_scores = [metrics.get_h_accuracy(x[0], x[1]) for x in predictions]\n",
    "h_accuracy_scores_k2 = [metrics.get_h_accuracy(x[0], x[1], k=2) for x in predictions]\n",
    "h_accuracy_scores_k5 = [metrics.get_h_accuracy(x[0], x[1], k=5) for x in predictions]\n",
    "m_accuracy_scores = [metrics.get_m_accuracy(x[0], x[1]) for x in predictions]\n",
    "m_accuracy_scores_k2 = [metrics.get_m_accuracy(x[0], x[1], k=2) for x in predictions]\n",
    "m_accuracy_scores_k5 = [metrics.get_m_accuracy(x[0], x[1], k=5) for x in predictions]\n",
    "accuracy_scores_L0 = [metrics.get_top_k_taxonomical_accuracy(x[0], x[1])[0] for x in predictions]\n",
    "accuracy_scores_L1 = [metrics.get_top_k_taxonomical_accuracy(x[0], x[1])[1] for x in predictions]\n",
    "accuracy_scores_L2 = [metrics.get_top_k_taxonomical_accuracy(x[0], x[1])[2] for x in predictions]\n",
    "accuracy_scores_L3 = [metrics.get_top_k_taxonomical_accuracy(x[0], x[1])[3] for x in predictions]\n",
    "accuracy_scores_L4 = [metrics.get_top_k_taxonomical_accuracy(x[0], x[1])[4] for x in predictions]\n",
    "consistency = [metrics.get_consistency(x[1], dataset.get_tree()) for x in predictions]"
   ]
  },
  {
   "cell_type": "code",
   "execution_count": 12,
   "id": "869d4f76",
   "metadata": {},
   "outputs": [
    {
     "data": {
      "text/plain": [
       "[0.7054813578185866]"
      ]
     },
     "execution_count": 12,
     "metadata": {},
     "output_type": "execute_result"
    }
   ],
   "source": [
    "#Consistency\n",
    "\n",
    "consistency"
   ]
  },
  {
   "cell_type": "code",
   "execution_count": 13,
   "id": "981adfb6",
   "metadata": {},
   "outputs": [
    {
     "data": {
      "text/plain": [
       "([0.8533667223149694],\n",
       " [0.6624930439621591],\n",
       " [0.5102949360044519],\n",
       " [0.4574290484140234],\n",
       " [0.4301613800779076])"
      ]
     },
     "execution_count": 13,
     "metadata": {},
     "output_type": "execute_result"
    }
   ],
   "source": [
    "#Accuracy L0 , L1, L2, L3, L4\n",
    "\n",
    "accuracy_scores_L0,accuracy_scores_L1,accuracy_scores_L2,accuracy_scores_L3,accuracy_scores_L4\n"
   ]
  },
  {
   "cell_type": "code",
   "execution_count": null,
   "id": "bd50aac9",
   "metadata": {},
   "outputs": [],
   "source": []
  }
 ],
 "metadata": {
  "kernelspec": {
   "display_name": "Python 3 (ipykernel)",
   "language": "python",
   "name": "python3"
  },
  "language_info": {
   "codemirror_mode": {
    "name": "ipython",
    "version": 3
   },
   "file_extension": ".py",
   "mimetype": "text/x-python",
   "name": "python",
   "nbconvert_exporter": "python",
   "pygments_lexer": "ipython3",
   "version": "3.9.12"
  }
 },
 "nbformat": 4,
 "nbformat_minor": 5
}
